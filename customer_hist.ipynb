{
 "cells": [
  {
   "cell_type": "code",
   "execution_count": 0,
   "metadata": {
    "application/vnd.databricks.v1+cell": {
     "cellMetadata": {},
     "inputWidgets": {},
     "nuid": "f683ef01-593a-4d53-a8ea-af5dbf51acd5",
     "showTitle": false,
     "tableResultSettingsMap": {},
     "title": ""
    }
   },
   "outputs": [],
   "source": [
    "from pyspark.sql import SparkSession\n",
    "from pyspark.sql.functions import col, count, when, lit, upper\n",
    "\n",
    "spark = SparkSession.builder.appName(\"CustomerPipeline\").getOrCreate()\n",
    "\n",
    "df_cust = spark.read.table(\"bircatalog.default.customers\") \n",
    "df_orders = spark.read.table(\"bd.birschema.orders\") \n",
    "df_payments = spark.read.table(\"hive_metastore.myschema.payments\") \n",
    "df_geo = spark.read.table(\"catalog.schema1.customer_geography\") \n",
    "df_feedback = spark.read.table(\"feedback\")\n",
    "\n",
    "\n",
    "df_orders.cache()\n",
    "\n",
    "\n",
    "df_join1 = df_cust.join(df_orders, df_cust.customer_id == df_orders.customer_id)\n",
    "\n",
    "\n",
    "df_join1_filtered = df_join1.filter((col(\"order_status\") == \"completed\") & (col(\"order_date\") >= \"2023-01-01\"))\n",
    "\n",
    "\n",
    "df_join2 = df_join1_filtered.join(df_payments, df_join1_filtered.order_id == df_payments.order_id)\n",
    "\n",
    "\n",
    "df_agg = df_join2.groupBy(\"customer_id\").agg(\n",
    "    count(\"*\").alias(\"total_orders\"),\n",
    "    count(when(col(\"payment_status\") == \"failed\", True)).alias(\"failed_payments\")\n",
    ")\n",
    "\n",
    "\n",
    "df_join3 = df_agg.join(df_geo, \"customer_id\", \"left\")\n",
    "\n",
    "\n",
    "df_transformed = df_join3.withColumn(\"country_upper\", upper(col(\"country\")))\n",
    "\n",
    "\n",
    "df_final = df_transformed.join(df_feedback, \"customer_id\")\n",
    "\n",
    "\n",
    "df_final.coalesce(1).write.format(\"delta\").mode(\"overwrite\").save(\"/mnt/output/customer_summary/\")"
   ]
  }
 ],
 "metadata": {
  "application/vnd.databricks.v1+notebook": {
   "computePreferences": null,
   "dashboards": [],
   "environmentMetadata": {
    "base_environment": "",
    "environment_version": "2"
   },
   "inputWidgetPreferences": null,
   "language": "python",
   "notebookMetadata": {
    "pythonIndentUnit": 2
   },
   "notebookName": "customer_hist",
   "widgets": {}
  },
  "language_info": {
   "name": "python"
  }
 },
 "nbformat": 4,
 "nbformat_minor": 0
}
